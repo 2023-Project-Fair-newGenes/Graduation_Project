{
 "cells": [
  {
   "cell_type": "code",
   "execution_count": 1,
   "id": "202aecd1",
   "metadata": {
    "scrolled": false
   },
   "outputs": [
    {
     "name": "stdout",
     "output_type": "stream",
     "text": [
      "Requirement already satisfied: numpy>=1.14.0 in d:\\users\\jinye\\anaconda3\\lib\\site-packages (from -r requirements.txt (line 1)) (1.23.5)\n",
      "Requirement already satisfied: scipy in d:\\users\\jinye\\anaconda3\\lib\\site-packages (from -r requirements.txt (line 2)) (1.10.0)\n",
      "Requirement already satisfied: scikit_learn>=0.19.1 in d:\\users\\jinye\\anaconda3\\lib\\site-packages (from -r requirements.txt (line 3)) (1.2.2)\n",
      "Requirement already satisfied: threadpoolctl>=2.0.0 in d:\\users\\jinye\\anaconda3\\lib\\site-packages (from scikit_learn>=0.19.1->-r requirements.txt (line 3)) (2.2.0)\n",
      "Requirement already satisfied: joblib>=1.1.1 in d:\\users\\jinye\\anaconda3\\lib\\site-packages (from scikit_learn>=0.19.1->-r requirements.txt (line 3)) (1.1.1)\n",
      "Note: you may need to restart the kernel to use updated packages.\n"
     ]
    }
   ],
   "source": [
    "pip install -r requirements.txt"
   ]
  },
  {
   "cell_type": "code",
   "execution_count": 2,
   "id": "82041397",
   "metadata": {},
   "outputs": [
    {
     "name": "stdout",
     "output_type": "stream",
     "text": [
      "Requirement already satisfied: scikit-allel in d:\\users\\jinye\\anaconda3\\lib\\site-packages (1.3.6)\n",
      "Requirement already satisfied: numpy in d:\\users\\jinye\\anaconda3\\lib\\site-packages (from scikit-allel) (1.23.5)\n",
      "Requirement already satisfied: dask[array] in d:\\users\\jinye\\anaconda3\\lib\\site-packages (from scikit-allel) (2022.7.0)\n",
      "Requirement already satisfied: pyyaml>=5.3.1 in d:\\users\\jinye\\anaconda3\\lib\\site-packages (from dask[array]->scikit-allel) (6.0)\n",
      "Requirement already satisfied: fsspec>=0.6.0 in d:\\users\\jinye\\anaconda3\\lib\\site-packages (from dask[array]->scikit-allel) (2022.11.0)\n",
      "Requirement already satisfied: packaging>=20.0 in d:\\users\\jinye\\anaconda3\\lib\\site-packages (from dask[array]->scikit-allel) (22.0)\n",
      "Requirement already satisfied: toolz>=0.8.2 in d:\\users\\jinye\\anaconda3\\lib\\site-packages (from dask[array]->scikit-allel) (0.12.0)\n",
      "Requirement already satisfied: cloudpickle>=1.1.1 in d:\\users\\jinye\\anaconda3\\lib\\site-packages (from dask[array]->scikit-allel) (2.0.0)\n",
      "Requirement already satisfied: partd>=0.3.10 in d:\\users\\jinye\\anaconda3\\lib\\site-packages (from dask[array]->scikit-allel) (1.2.0)\n",
      "Requirement already satisfied: locket in d:\\users\\jinye\\anaconda3\\lib\\site-packages (from partd>=0.3.10->dask[array]->scikit-allel) (1.0.0)\n",
      "Note: you may need to restart the kernel to use updated packages.\n"
     ]
    }
   ],
   "source": [
    "pip install scikit-allel"
   ]
  },
  {
   "cell_type": "code",
   "execution_count": 3,
   "id": "5d04c1ec",
   "metadata": {},
   "outputs": [
    {
     "name": "stdout",
     "output_type": "stream",
     "text": [
      "Processing d:\\yejingithub\\graduation_project\n",
      "  Preparing metadata (setup.py): started\n",
      "  Preparing metadata (setup.py): finished with status 'done'\n",
      "Requirement already satisfied: numpy in d:\\users\\jinye\\anaconda3\\lib\\site-packages (from VEF==0.1) (1.23.5)\n",
      "Requirement already satisfied: scikit_allel in d:\\users\\jinye\\anaconda3\\lib\\site-packages (from VEF==0.1) (1.3.6)\n",
      "Requirement already satisfied: scikit_learn in d:\\users\\jinye\\anaconda3\\lib\\site-packages (from VEF==0.1) (1.2.2)\n",
      "Requirement already satisfied: dask[array] in d:\\users\\jinye\\anaconda3\\lib\\site-packages (from scikit_allel->VEF==0.1) (2022.7.0)\n",
      "Requirement already satisfied: joblib>=1.1.1 in d:\\users\\jinye\\anaconda3\\lib\\site-packages (from scikit_learn->VEF==0.1) (1.1.1)\n",
      "Requirement already satisfied: threadpoolctl>=2.0.0 in d:\\users\\jinye\\anaconda3\\lib\\site-packages (from scikit_learn->VEF==0.1) (2.2.0)\n",
      "Requirement already satisfied: scipy>=1.3.2 in d:\\users\\jinye\\anaconda3\\lib\\site-packages (from scikit_learn->VEF==0.1) (1.10.0)\n",
      "Requirement already satisfied: toolz>=0.8.2 in d:\\users\\jinye\\anaconda3\\lib\\site-packages (from dask[array]->scikit_allel->VEF==0.1) (0.12.0)\n",
      "Requirement already satisfied: packaging>=20.0 in d:\\users\\jinye\\anaconda3\\lib\\site-packages (from dask[array]->scikit_allel->VEF==0.1) (22.0)\n",
      "Requirement already satisfied: fsspec>=0.6.0 in d:\\users\\jinye\\anaconda3\\lib\\site-packages (from dask[array]->scikit_allel->VEF==0.1) (2022.11.0)\n",
      "Requirement already satisfied: pyyaml>=5.3.1 in d:\\users\\jinye\\anaconda3\\lib\\site-packages (from dask[array]->scikit_allel->VEF==0.1) (6.0)\n",
      "Requirement already satisfied: partd>=0.3.10 in d:\\users\\jinye\\anaconda3\\lib\\site-packages (from dask[array]->scikit_allel->VEF==0.1) (1.2.0)\n",
      "Requirement already satisfied: cloudpickle>=1.1.1 in d:\\users\\jinye\\anaconda3\\lib\\site-packages (from dask[array]->scikit_allel->VEF==0.1) (2.0.0)\n",
      "Requirement already satisfied: locket in d:\\users\\jinye\\anaconda3\\lib\\site-packages (from partd>=0.3.10->dask[array]->scikit_allel->VEF==0.1) (1.0.0)\n",
      "Building wheels for collected packages: VEF\n",
      "  Building wheel for VEF (setup.py): started\n",
      "  Building wheel for VEF (setup.py): finished with status 'done'\n",
      "  Created wheel for VEF: filename=VEF-0.1-py3-none-any.whl size=16662 sha256=101394a4ee47c31ad54f1a1950a41954c4656faaa3a1ffb9588ee42e92576e45\n",
      "  Stored in directory: C:\\Users\\jinye\\AppData\\Local\\Temp\\pip-ephem-wheel-cache-qt8uveti\\wheels\\e1\\40\\82\\c015c8959c5d3c4d3d8104cd1df21f0a18a96bdd1d8526c2dc\n",
      "Successfully built VEF\n",
      "Installing collected packages: VEF\n",
      "  Attempting uninstall: VEF\n",
      "    Found existing installation: VEF 0.1\n",
      "    Uninstalling VEF-0.1:\n",
      "      Successfully uninstalled VEF-0.1\n",
      "Successfully installed VEF-0.1\n",
      "Note: you may need to restart the kernel to use updated packages.\n"
     ]
    }
   ],
   "source": [
    "pip install ./"
   ]
  },
  {
   "cell_type": "code",
   "execution_count": 4,
   "id": "c6553cfc",
   "metadata": {},
   "outputs": [
    {
     "name": "stdout",
     "output_type": "stream",
     "text": [
      "D:\\YejinGithub\\Graduation_Project\\example\n"
     ]
    }
   ],
   "source": [
    "cd example"
   ]
  },
  {
   "cell_type": "code",
   "execution_count": 5,
   "id": "4e742298",
   "metadata": {},
   "outputs": [
    {
     "name": "stdout",
     "output_type": "stream",
     "text": [
      "Requirement already satisfied: cmake in d:\\users\\jinye\\anaconda3\\lib\\site-packages (3.27.0)\n"
     ]
    }
   ],
   "source": [
    "!pip3 install cmake"
   ]
  },
  {
   "cell_type": "code",
   "execution_count": 6,
   "id": "4d166fc5",
   "metadata": {},
   "outputs": [
    {
     "name": "stdout",
     "output_type": "stream",
     "text": [
      "Requirement already satisfied: xgboost in d:\\users\\jinye\\anaconda3\\lib\\site-packages (1.7.6)\n",
      "Requirement already satisfied: scipy in d:\\users\\jinye\\anaconda3\\lib\\site-packages (from xgboost) (1.10.0)\n",
      "Requirement already satisfied: numpy in d:\\users\\jinye\\anaconda3\\lib\\site-packages (from xgboost) (1.23.5)\n"
     ]
    }
   ],
   "source": [
    "!pip3 install xgboost"
   ]
  },
  {
   "cell_type": "code",
   "execution_count": 8,
   "id": "c9f684f0",
   "metadata": {},
   "outputs": [],
   "source": [
    "!test.sh"
   ]
  },
  {
   "cell_type": "code",
   "execution_count": 8,
   "id": "f111fa8c",
   "metadata": {},
   "outputs": [
    {
     "name": "stderr",
     "output_type": "stream",
     "text": [
      "INFO    2023-08-07 12:00:35,619 VCFDataset      Start extracting label from D:\\YejinGithub\\Graduation_Project\\example\\data\\NA12878_chr11.indel.vcf.gz.happy.vcf.gz\n",
      "INFO    2023-08-07 12:00:36,263 VCFDataset      Total variants(hap.py): 199575, in high-conf region variants: 186284\n",
      "INFO    2023-08-07 12:00:36,692 VCFDataset      Finish extracting label from file\n",
      "INFO    2023-08-07 12:00:36,974 VCFDataset      Start extracting variants from D:\\YejinGithub\\Graduation_Project\\example\\data\\NA12878_chr11.indel.vcf.gz\n",
      "INFO    2023-08-07 12:00:36,996 VCFDataset      Finish extracting variants from file, #variants=22017, #positive_sample=18295, #features=8\n",
      "INFO    2023-08-07 12:00:37,001 Classifier      Begin training model\n",
      "INFO    2023-08-07 12:00:38,280 Classifier      Training a\n",
      "INFO    2023-08-07 12:00:38,283 Classifier      Finish training model\n",
      "INFO    2023-08-07 12:00:38,283 Classifier      Elapsed time 1.282s\n",
      "INFO    2023-08-07 12:00:38,295 Classifier      Classifier saved at D:\\YejinGithub\\Graduation_Project\\example\\data\\NA12878_chr11.indel.vcf.gz.vef_indel_XG.n_150.clf\n"
     ]
    }
   ],
   "source": [
    "!python vef_clf.py --happy ./data/NA12878_chr11.indel.vcf.gz.happy.vcf.gz \\\n",
    "                  --target ./data/NA12878_chr11.indel.vcf.gz \\\n",
    "                  --mode INDEL \\\n",
    "                  --kind XG"
   ]
  },
  {
   "cell_type": "code",
   "execution_count": 9,
   "id": "8ee937da",
   "metadata": {},
   "outputs": [
    {
     "name": "stdout",
     "output_type": "stream",
     "text": [
      "XG\n"
     ]
    },
    {
     "name": "stderr",
     "output_type": "stream",
     "text": [
      "INFO    2023-08-07 12:00:46,406 VCFApply        Start output filtered result to file D:\\YejinGithub\\Graduation_Project\\example\\data\\NA12878_chr20.indel.vcf.gz.vef.vcf\n",
      "INFO    2023-08-07 12:00:46,628 VCFApply        Finish output filtered result, time elapsed 0.220s\n"
     ]
    }
   ],
   "source": [
    "!python vef_apl.py --clf_file ./data/NA12878_chr11.indel.vcf.gz.vef_indel_XG.n_150.clf \\\n",
    "                  --subject ./data/NA12878_chr20.indel.vcf.gz \\\n",
    "                  --suffix vef \\\n",
    "                  --mode INDEL"
   ]
  },
  {
   "cell_type": "code",
   "execution_count": 12,
   "id": "52d16705",
   "metadata": {
    "scrolled": true
   },
   "outputs": [
    {
     "ename": "IndentationError",
     "evalue": "unexpected indent (1836741078.py, line 2)",
     "output_type": "error",
     "traceback": [
      "\u001b[1;36m  Cell \u001b[1;32mIn[12], line 2\u001b[1;36m\u001b[0m\n\u001b[1;33m    --fold 5\u001b[0m\n\u001b[1;37m    ^\u001b[0m\n\u001b[1;31mIndentationError\u001b[0m\u001b[1;31m:\u001b[0m unexpected indent\n"
     ]
    }
   ],
   "source": [
    "# !python vef_grid_search.py --happy ./data/NA12878_chr11.indel.vcf.gz.happy.vcf.gz \\\n",
    "#     --target ./data/NA12878_chr11.indel.vcf.gz \\\n",
    "#     --mode INDEL \n",
    "#     --fold 5 \n",
    "#     --jobs 2 \n",
    "#     --kind XG"
   ]
  },
  {
   "cell_type": "code",
   "execution_count": 10,
   "id": "351572b6",
   "metadata": {},
   "outputs": [],
   "source": [
    "%matplotlib inline "
   ]
  },
  {
   "cell_type": "code",
   "execution_count": 4,
   "id": "af622dfe",
   "metadata": {},
   "outputs": [
    {
     "name": "stderr",
     "output_type": "stream",
     "text": [
      "Python\n"
     ]
    }
   ],
   "source": [
    "!python3 xg_evaluation.py --happy ./data/NA12878_chr11.indel.vcf.gz.happy.vcf.gz \\\n",
    "                  --target ./data/NA12878_chr11.indel.vcf.gz \\\n",
    "                  --mode INDEL \\\n",
    "                  --kind XG  \\\n",
    "                  --performance ALL"
   ]
  },
  {
   "cell_type": "code",
   "execution_count": null,
   "id": "3c249e63",
   "metadata": {},
   "outputs": [],
   "source": []
  }
 ],
 "metadata": {
  "kernelspec": {
   "display_name": "Python 3 (ipykernel)",
   "language": "python",
   "name": "python3"
  },
  "language_info": {
   "codemirror_mode": {
    "name": "ipython",
    "version": 3
   },
   "file_extension": ".py",
   "mimetype": "text/x-python",
   "name": "python",
   "nbconvert_exporter": "python",
   "pygments_lexer": "ipython3",
   "version": "3.10.9"
  }
 },
 "nbformat": 4,
 "nbformat_minor": 5
}
