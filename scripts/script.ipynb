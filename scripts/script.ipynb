{
 "cells": [
  {
   "cell_type": "code",
   "execution_count": 10,
   "id": "2967cb8f-1470-471b-9d53-e8c970c22782",
   "metadata": {},
   "outputs": [
    {
     "name": "stdout",
     "output_type": "stream",
     "text": [
      "INFO    2023-09-12 20:51:42,554 Test            -----NA12878 ch11 데이터셋을 train과 test로 split해 테스트 진행-----\n",
      "INFO    2023-09-12 20:51:42,554 Test            -----데이터 셋 준비-----\n",
      "INFO    2023-09-12 20:51:42,607 VCFDataset      Start extracting label from /Users/yujin/Documents/project/Graduation_Project/Graduation_Project/dataset/NA12878_chr11.indel.vcf.gz.happy.vcf.gz\n",
      "INFO    2023-09-12 20:51:43,325 VCFDataset      Total variants(hap.py): 199575, in high-conf region variants: 186284\n",
      "INFO    2023-09-12 20:51:43,718 VCFDataset      Finish extracting label from file\n",
      "INFO    2023-09-12 20:51:43,969 VCFDataset      Start extracting variants from /Users/yujin/Documents/project/Graduation_Project/Graduation_Project/dataset/NA12878_chr11.indel.vcf.gz\n",
      "INFO    2023-09-12 20:51:43,988 VCFDataset      Finish extracting variants from file, #variants=22017, #positive_sample=18295, #features=8\n",
      "INFO    2023-09-12 20:51:43,999 Test            -----train 진행-----\n",
      "INFO    2023-09-12 20:51:43,999 Classifier      Begin training model\n",
      "INFO    2023-09-12 20:51:47,500 Classifier      Training a RF\n",
      "INFO    2023-09-12 20:51:47,500 Classifier      Finish training model\n",
      "INFO    2023-09-12 20:51:47,501 Classifier      Elapsed time 3.501s\n",
      "INFO    2023-09-12 20:51:47,501 Classifier      Begin training model\n",
      "[LightGBM] [Warning] feature_fraction is set=0.8439020417557227, colsample_bytree=1.0 will be ignored. Current value: feature_fraction=0.8439020417557227\n",
      "[LightGBM] [Warning] bagging_fraction is set=0.21552726628147978, subsample=1.0 will be ignored. Current value: bagging_fraction=0.21552726628147978\n",
      "[LightGBM] [Warning] feature_fraction is set=0.8439020417557227, colsample_bytree=1.0 will be ignored. Current value: feature_fraction=0.8439020417557227\n",
      "[LightGBM] [Warning] bagging_fraction is set=0.21552726628147978, subsample=1.0 will be ignored. Current value: bagging_fraction=0.21552726628147978\n",
      "[LightGBM] [Info] Number of positive: 12806, number of negative: 2605\n",
      "[LightGBM] [Info] Total Bins 1372\n",
      "[LightGBM] [Info] Number of data points in the train set: 15411, number of used features: 8\n",
      "[LightGBM] [Info] [binary:BoostFromScore]: pavg=0.830965 -> initscore=1.592481\n",
      "[LightGBM] [Info] Start training from score 1.592481\n",
      "INFO    2023-09-12 20:51:48,037 Classifier      Training a LGBM\n",
      "INFO    2023-09-12 20:51:48,037 Classifier      Finish training model\n",
      "INFO    2023-09-12 20:51:48,037 Classifier      Elapsed time 0.536s\n",
      "INFO    2023-09-12 20:51:48,037 Classifier      Begin training model\n",
      "INFO    2023-09-12 20:53:41,707 Classifier      Training a SVM\n",
      "INFO    2023-09-12 20:53:41,707 Classifier      Finish training model\n",
      "INFO    2023-09-12 20:53:41,707 Classifier      Elapsed time 113.670s\n",
      "INFO    2023-09-12 20:53:41,707 Classifier      Begin training model\n",
      "INFO    2023-09-12 20:53:42,420 Classifier      Training a XG\n",
      "INFO    2023-09-12 20:53:42,420 Classifier      Finish training model\n",
      "INFO    2023-09-12 20:53:42,420 Classifier      Elapsed time 0.713s\n",
      "INFO    2023-09-12 20:53:42,420 Test            -----test 진행-----\n",
      "[LightGBM] [Warning] feature_fraction is set=0.8439020417557227, colsample_bytree=1.0 will be ignored. Current value: feature_fraction=0.8439020417557227\n",
      "[LightGBM] [Warning] bagging_fraction is set=0.21552726628147978, subsample=1.0 will be ignored. Current value: bagging_fraction=0.21552726628147978\n",
      "INFO    2023-09-12 20:53:46,203 Test            -----ROC, AUC 계산-----\n"
     ]
    }
   ],
   "source": [
    "!python test1_script.py"
   ]
  },
  {
   "cell_type": "code",
   "execution_count": null,
   "id": "8a69bb08-7ce7-45c3-a28e-b74180ac688d",
   "metadata": {},
   "outputs": [],
   "source": []
  }
 ],
 "metadata": {
  "kernelspec": {
   "display_name": "Python 3 (ipykernel)",
   "language": "python",
   "name": "python3"
  },
  "language_info": {
   "codemirror_mode": {
    "name": "ipython",
    "version": 3
   },
   "file_extension": ".py",
   "mimetype": "text/x-python",
   "name": "python",
   "nbconvert_exporter": "python",
   "pygments_lexer": "ipython3",
   "version": "3.11.4"
  }
 },
 "nbformat": 4,
 "nbformat_minor": 5
}
