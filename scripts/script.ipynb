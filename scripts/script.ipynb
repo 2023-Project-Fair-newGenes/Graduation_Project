{
 "cells": [
  {
   "cell_type": "code",
   "execution_count": 7,
   "id": "2967cb8f-1470-471b-9d53-e8c970c22782",
   "metadata": {},
   "outputs": [
    {
     "name": "stdout",
     "output_type": "stream",
     "text": [
      "INFO    2023-09-13 23:55:57,945 Test            -----NA12878 ch11 데이터셋을 train과 test로 split해 테스트 진행-----\n",
      "INFO    2023-09-13 23:55:57,945 Test            -----데이터 셋 준비-----\n",
      "INFO    2023-09-13 23:55:57,998 VCFDataset      Start extracting label from /Users/yujin/Documents/project/Graduation_Project/Graduation_Project/dataset/NA12878_chr11.indel.vcf.gz.happy.vcf.gz\n",
      "INFO    2023-09-13 23:55:58,807 VCFDataset      Total variants(hap.py): 199575, in high-conf region variants: 186284\n",
      "INFO    2023-09-13 23:55:59,177 VCFDataset      Finish extracting label from file\n",
      "INFO    2023-09-13 23:55:59,447 VCFDataset      Start extracting variants from /Users/yujin/Documents/project/Graduation_Project/Graduation_Project/dataset/NA12878_chr11.indel.vcf.gz\n",
      "INFO    2023-09-13 23:55:59,469 VCFDataset      Finish extracting variants from file, #variants=22017, #positive_sample=18295, #features=8\n",
      "INFO    2023-09-13 23:55:59,480 Test            -----train 진행-----\n",
      "INFO    2023-09-13 23:55:59,480 Classifier      Begin training model\n",
      "INFO    2023-09-13 23:56:02,901 Classifier      Training a RF\n",
      "INFO    2023-09-13 23:56:02,901 Classifier      Finish training model\n",
      "INFO    2023-09-13 23:56:02,901 Classifier      Elapsed time 3.421s\n",
      "INFO    2023-09-13 23:56:02,901 Classifier      Begin training model\n",
      "[LightGBM] [Warning] feature_fraction is set=0.8439020417557227, colsample_bytree=1.0 will be ignored. Current value: feature_fraction=0.8439020417557227\n",
      "[LightGBM] [Warning] bagging_fraction is set=0.21552726628147978, subsample=1.0 will be ignored. Current value: bagging_fraction=0.21552726628147978\n",
      "[LightGBM] [Warning] feature_fraction is set=0.8439020417557227, colsample_bytree=1.0 will be ignored. Current value: feature_fraction=0.8439020417557227\n",
      "[LightGBM] [Warning] bagging_fraction is set=0.21552726628147978, subsample=1.0 will be ignored. Current value: bagging_fraction=0.21552726628147978\n",
      "[LightGBM] [Info] Number of positive: 12806, number of negative: 2605\n",
      "[LightGBM] [Info] Total Bins 1372\n",
      "[LightGBM] [Info] Number of data points in the train set: 15411, number of used features: 8\n",
      "[LightGBM] [Info] [binary:BoostFromScore]: pavg=0.830965 -> initscore=1.592481\n",
      "[LightGBM] [Info] Start training from score 1.592481\n",
      "INFO    2023-09-13 23:56:03,537 Classifier      Training a LGBM\n",
      "INFO    2023-09-13 23:56:03,537 Classifier      Finish training model\n",
      "INFO    2023-09-13 23:56:03,537 Classifier      Elapsed time 0.636s\n",
      "INFO    2023-09-13 23:56:03,537 Classifier      Begin training model\n",
      "INFO    2023-09-13 23:58:01,123 Classifier      Training a SVM\n",
      "INFO    2023-09-13 23:58:01,123 Classifier      Finish training model\n",
      "INFO    2023-09-13 23:58:01,123 Classifier      Elapsed time 117.585s\n",
      "INFO    2023-09-13 23:58:01,123 Classifier      Begin training model\n",
      "INFO    2023-09-13 23:58:01,782 Classifier      Training a XG\n",
      "INFO    2023-09-13 23:58:01,783 Classifier      Finish training model\n",
      "INFO    2023-09-13 23:58:01,783 Classifier      Elapsed time 0.660s\n",
      "INFO    2023-09-13 23:58:01,783 Test            -----test 진행-----\n",
      "[LightGBM] [Warning] feature_fraction is set=0.8439020417557227, colsample_bytree=1.0 will be ignored. Current value: feature_fraction=0.8439020417557227\n",
      "[LightGBM] [Warning] bagging_fraction is set=0.21552726628147978, subsample=1.0 will be ignored. Current value: bagging_fraction=0.21552726628147978\n",
      "INFO    2023-09-13 23:58:05,616 Test            -----ROC, AUC 계산-----\n",
      "INFO    2023-09-13 23:58:05,867 Test            -----TEST 완료-----\n"
     ]
    }
   ],
   "source": [
    "# test1_script 실행\n",
    "# ch11 dataset에 대해 70%, 30% 비율로 train과 test 진행함\n",
    "# RandomForest, LGBM, SVM, XGBoost 모델 성능 비교 \n",
    "# AUC courve로 성능 비교 \n",
    "\n",
    "!python test1_script.py"
   ]
  },
  {
   "cell_type": "code",
   "execution_count": 8,
   "id": "dbdbe460-6717-4765-bc14-e347a1260eb3",
   "metadata": {},
   "outputs": [
    {
     "name": "stdout",
     "output_type": "stream",
     "text": [
      "INFO    2023-09-14 00:01:22,937 Test            -----NA12878 ch11 데이터셋을 train으로 ch20 데이터셋을 test 해 테스트 진행-----\n",
      "INFO    2023-09-14 00:01:22,937 Test            -----train 데이터 셋 준비-----\n",
      "INFO    2023-09-14 00:01:22,987 VCFDataset      Start extracting label from /Users/yujin/Documents/project/Graduation_Project/Graduation_Project/dataset/NA12878_chr11.indel.vcf.gz.happy.vcf.gz\n",
      "INFO    2023-09-14 00:01:23,709 VCFDataset      Total variants(hap.py): 199575, in high-conf region variants: 186284\n",
      "INFO    2023-09-14 00:01:24,084 VCFDataset      Finish extracting label from file\n",
      "INFO    2023-09-14 00:01:24,342 VCFDataset      Start extracting variants from /Users/yujin/Documents/project/Graduation_Project/Graduation_Project/dataset/NA12878_chr11.indel.vcf.gz\n",
      "INFO    2023-09-14 00:01:24,363 VCFDataset      Finish extracting variants from file, #variants=22017, #positive_sample=18295, #features=8\n",
      "INFO    2023-09-14 00:01:24,365 Test            -----test 데이터 셋 준비-----\n",
      "INFO    2023-09-14 00:01:24,412 VCFDataset      Start extracting label from /Users/yujin/Documents/project/Graduation_Project/Graduation_Project/dataset/NA12878_chr20.indel.vcf.gz.happy.vcf.gz\n",
      "INFO    2023-09-14 00:01:24,716 VCFDataset      Total variants(hap.py): 84866, in high-conf region variants: 78399\n",
      "INFO    2023-09-14 00:01:24,875 VCFDataset      Finish extracting label from file\n",
      "INFO    2023-09-14 00:01:24,999 VCFDataset      Start extracting variants from /Users/yujin/Documents/project/Graduation_Project/Graduation_Project/dataset/NA12878_chr20.indel.vcf.gz\n",
      "INFO    2023-09-14 00:01:25,008 VCFDataset      Finish extracting variants from file, #variants=9569, #positive_sample=7695, #features=8\n",
      "INFO    2023-09-14 00:01:25,009 Test            -----train 진행-----\n",
      "INFO    2023-09-14 00:01:25,009 Classifier      Begin training model\n",
      "INFO    2023-09-14 00:01:29,939 Classifier      Training a RF\n",
      "INFO    2023-09-14 00:01:29,939 Classifier      Finish training model\n",
      "INFO    2023-09-14 00:01:29,940 Classifier      Elapsed time 4.930s\n",
      "INFO    2023-09-14 00:01:29,940 Classifier      Begin training model\n",
      "[LightGBM] [Warning] feature_fraction is set=0.8439020417557227, colsample_bytree=1.0 will be ignored. Current value: feature_fraction=0.8439020417557227\n",
      "[LightGBM] [Warning] bagging_fraction is set=0.21552726628147978, subsample=1.0 will be ignored. Current value: bagging_fraction=0.21552726628147978\n",
      "[LightGBM] [Warning] feature_fraction is set=0.8439020417557227, colsample_bytree=1.0 will be ignored. Current value: feature_fraction=0.8439020417557227\n",
      "[LightGBM] [Warning] bagging_fraction is set=0.21552726628147978, subsample=1.0 will be ignored. Current value: bagging_fraction=0.21552726628147978\n",
      "[LightGBM] [Info] Number of positive: 18295, number of negative: 3722\n",
      "[LightGBM] [Info] Total Bins 1382\n",
      "[LightGBM] [Info] Number of data points in the train set: 22017, number of used features: 8\n",
      "[LightGBM] [Info] [binary:BoostFromScore]: pavg=0.830949 -> initscore=1.592367\n",
      "[LightGBM] [Info] Start training from score 1.592367\n",
      "INFO    2023-09-14 00:01:30,588 Classifier      Training a LGBM\n",
      "INFO    2023-09-14 00:01:30,588 Classifier      Finish training model\n",
      "INFO    2023-09-14 00:01:30,589 Classifier      Elapsed time 0.649s\n",
      "INFO    2023-09-14 00:01:30,589 Classifier      Begin training model\n",
      "INFO    2023-09-14 00:05:09,200 Classifier      Training a SVM\n",
      "INFO    2023-09-14 00:05:09,200 Classifier      Finish training model\n",
      "INFO    2023-09-14 00:05:09,200 Classifier      Elapsed time 218.611s\n",
      "INFO    2023-09-14 00:05:09,200 Classifier      Begin training model\n",
      "INFO    2023-09-14 00:05:10,028 Classifier      Training a XG\n",
      "INFO    2023-09-14 00:05:10,028 Classifier      Finish training model\n",
      "INFO    2023-09-14 00:05:10,028 Classifier      Elapsed time 0.828s\n",
      "INFO    2023-09-14 00:05:10,028 Test            -----test 진행-----\n",
      "[LightGBM] [Warning] feature_fraction is set=0.8439020417557227, colsample_bytree=1.0 will be ignored. Current value: feature_fraction=0.8439020417557227\n",
      "[LightGBM] [Warning] bagging_fraction is set=0.21552726628147978, subsample=1.0 will be ignored. Current value: bagging_fraction=0.21552726628147978\n",
      "INFO    2023-09-14 00:05:17,575 Test            -----ROC, AUC 계산-----\n",
      "INFO    2023-09-14 00:05:17,840 Test            -----TEST 완료-----\n"
     ]
    }
   ],
   "source": [
    "# test2_script 실행\n",
    "# ch11 dataset에 대해 train, ch20 dataset에 대해 Test 진행함\n",
    "# RandomForest, LGBM, SVM, XGBoost 모델 성능 비교 \n",
    "# AUC courve로 성능 비교 \n",
    "\n",
    "!python test2_script.py"
   ]
  },
  {
   "cell_type": "code",
   "execution_count": null,
   "id": "2cebe552-3820-4b11-8f74-1c1785a66a59",
   "metadata": {},
   "outputs": [],
   "source": []
  }
 ],
 "metadata": {
  "kernelspec": {
   "display_name": "Python 3 (ipykernel)",
   "language": "python",
   "name": "python3"
  },
  "language_info": {
   "codemirror_mode": {
    "name": "ipython",
    "version": 3
   },
   "file_extension": ".py",
   "mimetype": "text/x-python",
   "name": "python",
   "nbconvert_exporter": "python",
   "pygments_lexer": "ipython3",
   "version": "3.11.4"
  }
 },
 "nbformat": 4,
 "nbformat_minor": 5
}
